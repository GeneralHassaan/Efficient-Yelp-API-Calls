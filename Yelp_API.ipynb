{
 "cells": [
  {
   "cell_type": "code",
   "execution_count": 12,
   "id": "42c0ee48",
   "metadata": {},
   "outputs": [],
   "source": [
    "# Standard Imports\n",
    "import numpy as np\n",
    "import pandas as pd\n",
    "import matplotlib.pyplot as plt\n",
    "import seaborn as sns\n",
    "# Additional Imports\n",
    "import os, json, math, time\n",
    "from yelpapi import YelpAPI\n",
    "from tqdm.notebook import tqdm_notebook\n"
   ]
  },
  {
   "cell_type": "code",
   "execution_count": 2,
   "id": "fd947c72",
   "metadata": {},
   "outputs": [
    {
     "data": {
      "text/plain": [
       "dict_keys(['client-id', 'api-key'])"
      ]
     },
     "execution_count": 2,
     "metadata": {},
     "output_type": "execute_result"
    }
   ],
   "source": [
    "import json\n",
    "with open('/Users/hassaanasif/desktop/yelp_api.json') as f: \n",
    "    login = json.load(f)\n",
    "login.keys()\n"
   ]
  },
  {
   "cell_type": "code",
   "execution_count": 3,
   "id": "408a0039",
   "metadata": {},
   "outputs": [
    {
     "data": {
      "text/plain": [
       "<yelpapi.yelpapi.YelpAPI at 0x7fe8b883f790>"
      ]
     },
     "execution_count": 3,
     "metadata": {},
     "output_type": "execute_result"
    }
   ],
   "source": [
    "from yelpapi import YelpAPI\n",
    "yelp_api = YelpAPI(login['api-key'], timeout_s=5.0)\n",
    "yelp_api"
   ]
  },
  {
   "cell_type": "code",
   "execution_count": 32,
   "id": "a403c37a",
   "metadata": {},
   "outputs": [
    {
     "name": "stdout",
     "output_type": "stream",
     "text": [
      "<class 'dict'>\n"
     ]
    },
    {
     "data": {
      "text/plain": [
       "dict_keys(['businesses', 'total', 'region'])"
      ]
     },
     "execution_count": 32,
     "metadata": {},
     "output_type": "execute_result"
    }
   ],
   "source": [
    "results = yelp_api.search_query(location='New York, NY',\n",
    "                                       term='Bagels')\n",
    "print(type(results))\n",
    "results.keys()"
   ]
  },
  {
   "cell_type": "code",
   "execution_count": 11,
   "id": "2e0564de",
   "metadata": {},
   "outputs": [
    {
     "name": "stdout",
     "output_type": "stream",
     "text": [
      "Requirement already satisfied: tqdm in /Users/hassaanasif/opt/anaconda3/envs/dojo-env/lib/python3.8/site-packages (4.64.1)\r\n"
     ]
    }
   ],
   "source": [
    "!pip install tqdm"
   ]
  },
  {
   "cell_type": "code",
   "execution_count": 33,
   "id": "00ccdd87",
   "metadata": {},
   "outputs": [],
   "source": [
    "LOCATION = 'NY,NY'\n",
    "TERM = 'Bagels'"
   ]
  },
  {
   "cell_type": "code",
   "execution_count": 34,
   "id": "37489cde",
   "metadata": {},
   "outputs": [
    {
     "data": {
      "text/plain": [
       "'Data/results_in_progress_NY_Bagels.json'"
      ]
     },
     "execution_count": 34,
     "metadata": {},
     "output_type": "execute_result"
    }
   ],
   "source": [
    "JSON_FILE = \"Data/results_in_progress_NY_Bagels.json\"\n",
    "JSON_FILE\n"
   ]
  },
  {
   "cell_type": "code",
   "execution_count": 35,
   "id": "904d4646",
   "metadata": {},
   "outputs": [
    {
     "name": "stdout",
     "output_type": "stream",
     "text": [
      "[i] Data/results_in_progress_NY_Bagels.json not found. Saving empty list to file.\n"
     ]
    }
   ],
   "source": [
    "file_exists = os.path.isfile(JSON_FILE)\n",
    "\n",
    "if file_exists == False:\n",
    "    \n",
    "    \n",
    "    \n",
    "    folder = os.path.dirname(JSON_FILE)\n",
    "   \n",
    "    if len(folder)>0:\n",
    "        # creating folder\n",
    "        os.makedirs(folder,exist_ok=True)\n",
    "        \n",
    "        \n",
    "    \n",
    "    print(f'[i] {JSON_FILE} not found. Saving empty list to file.')\n",
    "    \n",
    "    \n",
    "    # save an empty list\n",
    "    with open(JSON_FILE,'w') as f:\n",
    "        json.dump([],f)  \n",
    "\n",
    "else:\n",
    "    print(f\"[i] {JSON_FILE} already exists.\")"
   ]
  },
  {
   "cell_type": "code",
   "execution_count": 36,
   "id": "3a1dcf56",
   "metadata": {},
   "outputs": [
    {
     "name": "stdout",
     "output_type": "stream",
     "text": [
      "- 0 previous results found.\n"
     ]
    }
   ],
   "source": [
    "with open(JSON_FILE,'r') as f:\n",
    "    previous_results = json.load(f)\n",
    "    \n",
    "## set offset based on previous results\n",
    "n_results = len(previous_results)\n",
    "print(f'- {n_results} previous results found.')"
   ]
  },
  {
   "cell_type": "code",
   "execution_count": 37,
   "id": "62b70ed0",
   "metadata": {},
   "outputs": [
    {
     "data": {
      "text/plain": [
       "dict_keys(['businesses', 'total', 'region'])"
      ]
     },
     "execution_count": 37,
     "metadata": {},
     "output_type": "execute_result"
    }
   ],
   "source": [
    "results = yelp_api.search_query(location=LOCATION,\n",
    "                                term=TERM,\n",
    "                               offset=n_results)\n",
    "results.keys()\n"
   ]
  },
  {
   "cell_type": "code",
   "execution_count": 38,
   "id": "6a8f03d1",
   "metadata": {},
   "outputs": [
    {
     "data": {
      "text/plain": [
       "8000"
      ]
     },
     "execution_count": 38,
     "metadata": {},
     "output_type": "execute_result"
    }
   ],
   "source": [
    "total_results = results['total']\n",
    "total_results"
   ]
  },
  {
   "cell_type": "code",
   "execution_count": 39,
   "id": "76f925d7",
   "metadata": {},
   "outputs": [
    {
     "data": {
      "text/plain": [
       "20"
      ]
     },
     "execution_count": 39,
     "metadata": {},
     "output_type": "execute_result"
    }
   ],
   "source": [
    "results_per_page = len(results['businesses'])\n",
    "results_per_page\n"
   ]
  },
  {
   "cell_type": "code",
   "execution_count": 40,
   "id": "fe4f751a",
   "metadata": {},
   "outputs": [
    {
     "data": {
      "text/plain": [
       "400"
      ]
     },
     "execution_count": 40,
     "metadata": {},
     "output_type": "execute_result"
    }
   ],
   "source": [
    "import time, math\n",
    "n_pages = math.ceil((results['total']-n_results)/ results_per_page)\n",
    "n_pages\n"
   ]
  },
  {
   "cell_type": "code",
   "execution_count": 41,
   "id": "7fdd1292",
   "metadata": {},
   "outputs": [],
   "source": [
    "previous_results.extend(results['businesses'])  \n",
    "with open(JSON_FILE,'w') as f:\n",
    "     json.dump(previous_results,f)"
   ]
  },
  {
   "cell_type": "code",
   "execution_count": 42,
   "id": "408f9076",
   "metadata": {},
   "outputs": [
    {
     "name": "stdout",
     "output_type": "stream",
     "text": [
      "Requirement already satisfied: tqdm in /Users/hassaanasif/opt/anaconda3/envs/dojo-env/lib/python3.8/site-packages (4.64.1)\n",
      "Note: you may need to restart the kernel to use updated packages.\n"
     ]
    }
   ],
   "source": [
    "pip install tqdm"
   ]
  },
  {
   "cell_type": "code",
   "execution_count": 43,
   "id": "c2aad29d",
   "metadata": {},
   "outputs": [
    {
     "data": {
      "application/vnd.jupyter.widget-view+json": {
       "model_id": "f220c9fda2a549db80dcf14ddb08d70c",
       "version_major": 2,
       "version_minor": 0
      },
      "text/plain": [
       "  0%|          | 0/400 [00:00<?, ?it/s]"
      ]
     },
     "metadata": {},
     "output_type": "display_data"
    }
   ],
   "source": [
    "from tqdm.notebook import tqdm_notebook\n",
    "import time\n",
    "for i in tqdm_notebook(range(n_pages)):\n",
    "    # adds 200 ms pause\n",
    "    time.sleep(.2) "
   ]
  },
  {
   "cell_type": "code",
   "execution_count": 46,
   "id": "b7f895c3",
   "metadata": {},
   "outputs": [],
   "source": [
    "def create_json_file(JSON_FILE,  delete_if_exists=False):\n",
    "    \n",
    "    ## Check if JSON_FILE exists\n",
    "    file_exists = os.path.isfile(JSON_FILE)\n",
    "    \n",
    "    ## If it DOES exist:\n",
    "    if file_exists == True:\n",
    "        \n",
    "        ## Check if user wants to delete if exists\n",
    "        if delete_if_exists==True:\n",
    "            \n",
    "            print(f\"[!] {JSON_FILE} already exists. Deleting previous file...\")\n",
    "            ## delete file and confirm it no longer exits.\n",
    "            os.remove(JSON_FILE)\n",
    "            ## Recursive call to function after old file deleted\n",
    "            create_json_file(JSON_FILE,delete_if_exists=False)\n",
    "        else:\n",
    "            print(f\"[i] {JSON_FILE} already exists.\")            \n",
    "            \n",
    "            \n",
    "    ## If it does NOT exist:\n",
    "    else:\n",
    "        \n",
    "        ## INFORM USER AND SAVE EMPTY LIST\n",
    "        print(f\"[i] {JSON_FILE} not found. Saving empty list to new file.\")\n",
    "        \n",
    "        ## CREATE ANY NEEDED FOLDERS\n",
    "        # Get the Folder Name only\n",
    "        folder = os.path.dirname(JSON_FILE)\n",
    "        \n",
    "        ## If JSON_FILE included a folder:\n",
    "        if len(folder)>0:\n",
    "            # create the folder\n",
    "            os.makedirs(folder,exist_ok=True)\n",
    "        ## Save empty list to start the json file\n",
    "        with open(JSON_FILE,'w') as f:\n",
    "            json.dump([],f)  "
   ]
  },
  {
   "cell_type": "code",
   "execution_count": 47,
   "id": "7229d7e0",
   "metadata": {},
   "outputs": [
    {
     "name": "stdout",
     "output_type": "stream",
     "text": [
      "[!] Data/results_in_progress_NY_Bagels.json already exists. Deleting previous file...\n",
      "[i] Data/results_in_progress_NY_Bagels.json not found. Saving empty list to new file.\n",
      "- 0 previous results found.\n"
     ]
    },
    {
     "data": {
      "text/plain": [
       "400"
      ]
     },
     "execution_count": 47,
     "metadata": {},
     "output_type": "execute_result"
    }
   ],
   "source": [
    "create_json_file(JSON_FILE, delete_if_exists=True)\n",
    "## Load previous results and use len of results for offset\n",
    "with open(JSON_FILE,'r') as f:\n",
    "    previous_results = json.load(f)\n",
    "    \n",
    "## set offset based on previous results\n",
    "n_results = len(previous_results)\n",
    "print(f'- {n_results} previous results found.')\n",
    "# use our yelp_api variable's search_query method to perform our API call\n",
    "results = yelp_api.search_query(location=LOCATION,\n",
    "                                term=TERM,\n",
    "                               offset=n_results)\n",
    "## How many results total?\n",
    "total_results = results['total']\n",
    "## How many did we get the details for?\n",
    "results_per_page = len(results['businesses'])\n",
    "# Use math.ceil to round up for the total number of pages of results.\n",
    "n_pages = math.ceil((results['total']-n_results)/ results_per_page)\n",
    "n_pages"
   ]
  },
  {
   "cell_type": "code",
   "execution_count": 48,
   "id": "a7ba7829",
   "metadata": {},
   "outputs": [
    {
     "data": {
      "application/vnd.jupyter.widget-view+json": {
       "model_id": "ec81d5faa67641049fe1e66e87f718f7",
       "version_major": 2,
       "version_minor": 0
      },
      "text/plain": [
       "  0%|          | 0/400 [00:00<?, ?it/s]"
      ]
     },
     "metadata": {},
     "output_type": "display_data"
    },
    {
     "name": "stdout",
     "output_type": "stream",
     "text": [
      "Exceeded 1000 api calls. Stopping loop.\n"
     ]
    }
   ],
   "source": [
    "for i in tqdm_notebook( range(1,n_pages+1)):\n",
    "    \n",
    "    ## Read in results in progress file and check the length\n",
    "    with open(JSON_FILE, 'r') as f:\n",
    "        previous_results = json.load(f)\n",
    "    ## save number of results for to use as offset\n",
    "    n_results = len(previous_results)\n",
    "    \n",
    "    if (n_results + results_per_page) > 1000:\n",
    "        print('Exceeded 1000 api calls. Stopping loop.')\n",
    "        break\n",
    "    \n",
    "    ## use n_results as the OFFSET \n",
    "    results = yelp_api.search_query(location=LOCATION,\n",
    "                                    term=TERM, \n",
    "                                    offset=n_results)\n",
    "    \n",
    "    \n",
    "    \n",
    "    ## append new results and save to file\n",
    "    previous_results.extend(results['businesses'])\n",
    "    \n",
    "    # display(previous_results)\n",
    "    with open(JSON_FILE,'w') as f:\n",
    "        json.dump(previous_results,f)\n",
    "    \n",
    "    time.sleep(.2)"
   ]
  },
  {
   "cell_type": "code",
   "execution_count": 49,
   "id": "789a6963",
   "metadata": {},
   "outputs": [
    {
     "data": {
      "text/html": [
       "<div>\n",
       "<style scoped>\n",
       "    .dataframe tbody tr th:only-of-type {\n",
       "        vertical-align: middle;\n",
       "    }\n",
       "\n",
       "    .dataframe tbody tr th {\n",
       "        vertical-align: top;\n",
       "    }\n",
       "\n",
       "    .dataframe thead th {\n",
       "        text-align: right;\n",
       "    }\n",
       "</style>\n",
       "<table border=\"1\" class=\"dataframe\">\n",
       "  <thead>\n",
       "    <tr style=\"text-align: right;\">\n",
       "      <th></th>\n",
       "      <th>id</th>\n",
       "      <th>alias</th>\n",
       "      <th>name</th>\n",
       "      <th>image_url</th>\n",
       "      <th>is_closed</th>\n",
       "      <th>url</th>\n",
       "      <th>review_count</th>\n",
       "      <th>categories</th>\n",
       "      <th>rating</th>\n",
       "      <th>coordinates</th>\n",
       "      <th>transactions</th>\n",
       "      <th>price</th>\n",
       "      <th>location</th>\n",
       "      <th>phone</th>\n",
       "      <th>display_phone</th>\n",
       "      <th>distance</th>\n",
       "    </tr>\n",
       "  </thead>\n",
       "  <tbody>\n",
       "    <tr>\n",
       "      <th>0</th>\n",
       "      <td>VrCCr45dhN-RRM107iptdg</td>\n",
       "      <td>russ-and-daughters-new-york</td>\n",
       "      <td>Russ &amp; Daughters</td>\n",
       "      <td>https://s3-media4.fl.yelpcdn.com/bphoto/luU5lf...</td>\n",
       "      <td>False</td>\n",
       "      <td>https://www.yelp.com/biz/russ-and-daughters-ne...</td>\n",
       "      <td>2619</td>\n",
       "      <td>[{'alias': 'bagels', 'title': 'Bagels'}, {'ali...</td>\n",
       "      <td>4.5</td>\n",
       "      <td>{'latitude': 40.722589, 'longitude': -73.98828...</td>\n",
       "      <td>[delivery]</td>\n",
       "      <td>$$</td>\n",
       "      <td>{'address1': '179 E Houston St', 'address2': '...</td>\n",
       "      <td>+12124754880</td>\n",
       "      <td>(212) 475-4880</td>\n",
       "      <td>1972.496648</td>\n",
       "    </tr>\n",
       "    <tr>\n",
       "      <th>1</th>\n",
       "      <td>j1S3NUrkB3BVT49n_e76NQ</td>\n",
       "      <td>best-bagel-and-coffee-new-york</td>\n",
       "      <td>Best Bagel &amp; Coffee</td>\n",
       "      <td>https://s3-media2.fl.yelpcdn.com/bphoto/9-8DVz...</td>\n",
       "      <td>False</td>\n",
       "      <td>https://www.yelp.com/biz/best-bagel-and-coffee...</td>\n",
       "      <td>4203</td>\n",
       "      <td>[{'alias': 'bagels', 'title': 'Bagels'}, {'ali...</td>\n",
       "      <td>4.5</td>\n",
       "      <td>{'latitude': 40.7522683, 'longitude': -73.9910...</td>\n",
       "      <td>[delivery, pickup]</td>\n",
       "      <td>$</td>\n",
       "      <td>{'address1': '225 W 35th St', 'address2': '', ...</td>\n",
       "      <td>+12125644409</td>\n",
       "      <td>(212) 564-4409</td>\n",
       "      <td>5213.531501</td>\n",
       "    </tr>\n",
       "    <tr>\n",
       "      <th>2</th>\n",
       "      <td>foO2N-TrdPBO-dFn6M35TA</td>\n",
       "      <td>brooklyn-bagel-and-coffee-company-new-york-8</td>\n",
       "      <td>Brooklyn Bagel &amp; Coffee Company</td>\n",
       "      <td>https://s3-media1.fl.yelpcdn.com/bphoto/2ssnQh...</td>\n",
       "      <td>False</td>\n",
       "      <td>https://www.yelp.com/biz/brooklyn-bagel-and-co...</td>\n",
       "      <td>221</td>\n",
       "      <td>[{'alias': 'bagels', 'title': 'Bagels'}, {'ali...</td>\n",
       "      <td>4.5</td>\n",
       "      <td>{'latitude': 40.73104, 'longitude': -73.9932199}</td>\n",
       "      <td>[delivery, pickup]</td>\n",
       "      <td>$</td>\n",
       "      <td>{'address1': '63 E 8th St', 'address2': None, ...</td>\n",
       "      <td>+12124773070</td>\n",
       "      <td>(212) 477-3070</td>\n",
       "      <td>2846.031390</td>\n",
       "    </tr>\n",
       "    <tr>\n",
       "      <th>3</th>\n",
       "      <td>pb_ryc8FYHpUPV56eV2Eyg</td>\n",
       "      <td>brooklyn-bagel-and-coffee-company-new-york-2</td>\n",
       "      <td>Brooklyn Bagel &amp; Coffee Company</td>\n",
       "      <td>https://s3-media2.fl.yelpcdn.com/bphoto/hUTrAB...</td>\n",
       "      <td>False</td>\n",
       "      <td>https://www.yelp.com/biz/brooklyn-bagel-and-co...</td>\n",
       "      <td>1762</td>\n",
       "      <td>[{'alias': 'bagels', 'title': 'Bagels'}, {'ali...</td>\n",
       "      <td>4.5</td>\n",
       "      <td>{'latitude': 40.746183, 'longitude': -73.997642}</td>\n",
       "      <td>[delivery, pickup]</td>\n",
       "      <td>$</td>\n",
       "      <td>{'address1': '286 8th Ave', 'address2': '', 'a...</td>\n",
       "      <td>+12129242824</td>\n",
       "      <td>(212) 924-2824</td>\n",
       "      <td>4538.650359</td>\n",
       "    </tr>\n",
       "    <tr>\n",
       "      <th>4</th>\n",
       "      <td>oi39VAwo4-KGm_gSkWPCsQ</td>\n",
       "      <td>tompkins-square-bagels-avenue-a-new-york</td>\n",
       "      <td>Tompkins Square Bagels - Avenue A</td>\n",
       "      <td>https://s3-media2.fl.yelpcdn.com/bphoto/6yuU0v...</td>\n",
       "      <td>False</td>\n",
       "      <td>https://www.yelp.com/biz/tompkins-square-bagel...</td>\n",
       "      <td>1373</td>\n",
       "      <td>[{'alias': 'bagels', 'title': 'Bagels'}]</td>\n",
       "      <td>4.0</td>\n",
       "      <td>{'latitude': 40.72823, 'longitude': -73.9823}</td>\n",
       "      <td>[delivery, pickup]</td>\n",
       "      <td>$$</td>\n",
       "      <td>{'address1': '165 Avenue A', 'address2': '', '...</td>\n",
       "      <td>+16463516520</td>\n",
       "      <td>(646) 351-6520</td>\n",
       "      <td>2727.847810</td>\n",
       "    </tr>\n",
       "  </tbody>\n",
       "</table>\n",
       "</div>"
      ],
      "text/plain": [
       "                       id                                         alias  \\\n",
       "0  VrCCr45dhN-RRM107iptdg                   russ-and-daughters-new-york   \n",
       "1  j1S3NUrkB3BVT49n_e76NQ                best-bagel-and-coffee-new-york   \n",
       "2  foO2N-TrdPBO-dFn6M35TA  brooklyn-bagel-and-coffee-company-new-york-8   \n",
       "3  pb_ryc8FYHpUPV56eV2Eyg  brooklyn-bagel-and-coffee-company-new-york-2   \n",
       "4  oi39VAwo4-KGm_gSkWPCsQ      tompkins-square-bagels-avenue-a-new-york   \n",
       "\n",
       "                                name  \\\n",
       "0                   Russ & Daughters   \n",
       "1                Best Bagel & Coffee   \n",
       "2    Brooklyn Bagel & Coffee Company   \n",
       "3    Brooklyn Bagel & Coffee Company   \n",
       "4  Tompkins Square Bagels - Avenue A   \n",
       "\n",
       "                                           image_url  is_closed  \\\n",
       "0  https://s3-media4.fl.yelpcdn.com/bphoto/luU5lf...      False   \n",
       "1  https://s3-media2.fl.yelpcdn.com/bphoto/9-8DVz...      False   \n",
       "2  https://s3-media1.fl.yelpcdn.com/bphoto/2ssnQh...      False   \n",
       "3  https://s3-media2.fl.yelpcdn.com/bphoto/hUTrAB...      False   \n",
       "4  https://s3-media2.fl.yelpcdn.com/bphoto/6yuU0v...      False   \n",
       "\n",
       "                                                 url  review_count  \\\n",
       "0  https://www.yelp.com/biz/russ-and-daughters-ne...          2619   \n",
       "1  https://www.yelp.com/biz/best-bagel-and-coffee...          4203   \n",
       "2  https://www.yelp.com/biz/brooklyn-bagel-and-co...           221   \n",
       "3  https://www.yelp.com/biz/brooklyn-bagel-and-co...          1762   \n",
       "4  https://www.yelp.com/biz/tompkins-square-bagel...          1373   \n",
       "\n",
       "                                          categories  rating  \\\n",
       "0  [{'alias': 'bagels', 'title': 'Bagels'}, {'ali...     4.5   \n",
       "1  [{'alias': 'bagels', 'title': 'Bagels'}, {'ali...     4.5   \n",
       "2  [{'alias': 'bagels', 'title': 'Bagels'}, {'ali...     4.5   \n",
       "3  [{'alias': 'bagels', 'title': 'Bagels'}, {'ali...     4.5   \n",
       "4           [{'alias': 'bagels', 'title': 'Bagels'}]     4.0   \n",
       "\n",
       "                                         coordinates        transactions  \\\n",
       "0  {'latitude': 40.722589, 'longitude': -73.98828...          [delivery]   \n",
       "1  {'latitude': 40.7522683, 'longitude': -73.9910...  [delivery, pickup]   \n",
       "2   {'latitude': 40.73104, 'longitude': -73.9932199}  [delivery, pickup]   \n",
       "3   {'latitude': 40.746183, 'longitude': -73.997642}  [delivery, pickup]   \n",
       "4      {'latitude': 40.72823, 'longitude': -73.9823}  [delivery, pickup]   \n",
       "\n",
       "  price                                           location         phone  \\\n",
       "0    $$  {'address1': '179 E Houston St', 'address2': '...  +12124754880   \n",
       "1     $  {'address1': '225 W 35th St', 'address2': '', ...  +12125644409   \n",
       "2     $  {'address1': '63 E 8th St', 'address2': None, ...  +12124773070   \n",
       "3     $  {'address1': '286 8th Ave', 'address2': '', 'a...  +12129242824   \n",
       "4    $$  {'address1': '165 Avenue A', 'address2': '', '...  +16463516520   \n",
       "\n",
       "    display_phone     distance  \n",
       "0  (212) 475-4880  1972.496648  \n",
       "1  (212) 564-4409  5213.531501  \n",
       "2  (212) 477-3070  2846.031390  \n",
       "3  (212) 924-2824  4538.650359  \n",
       "4  (646) 351-6520  2727.847810  "
      ]
     },
     "metadata": {},
     "output_type": "display_data"
    },
    {
     "data": {
      "text/html": [
       "<div>\n",
       "<style scoped>\n",
       "    .dataframe tbody tr th:only-of-type {\n",
       "        vertical-align: middle;\n",
       "    }\n",
       "\n",
       "    .dataframe tbody tr th {\n",
       "        vertical-align: top;\n",
       "    }\n",
       "\n",
       "    .dataframe thead th {\n",
       "        text-align: right;\n",
       "    }\n",
       "</style>\n",
       "<table border=\"1\" class=\"dataframe\">\n",
       "  <thead>\n",
       "    <tr style=\"text-align: right;\">\n",
       "      <th></th>\n",
       "      <th>id</th>\n",
       "      <th>alias</th>\n",
       "      <th>name</th>\n",
       "      <th>image_url</th>\n",
       "      <th>is_closed</th>\n",
       "      <th>url</th>\n",
       "      <th>review_count</th>\n",
       "      <th>categories</th>\n",
       "      <th>rating</th>\n",
       "      <th>coordinates</th>\n",
       "      <th>transactions</th>\n",
       "      <th>price</th>\n",
       "      <th>location</th>\n",
       "      <th>phone</th>\n",
       "      <th>display_phone</th>\n",
       "      <th>distance</th>\n",
       "    </tr>\n",
       "  </thead>\n",
       "  <tbody>\n",
       "    <tr>\n",
       "      <th>995</th>\n",
       "      <td>kb4ezfYAZiu_uEtANLGU2w</td>\n",
       "      <td>york-grill-and-juice-bar-new-york</td>\n",
       "      <td>York Grill &amp; Juice Bar</td>\n",
       "      <td>https://s3-media3.fl.yelpcdn.com/bphoto/lWz61O...</td>\n",
       "      <td>False</td>\n",
       "      <td>https://www.yelp.com/biz/york-grill-and-juice-...</td>\n",
       "      <td>24</td>\n",
       "      <td>[{'alias': 'delis', 'title': 'Delis'}, {'alias...</td>\n",
       "      <td>4.5</td>\n",
       "      <td>{'latitude': 40.76608383097776, 'longitude': -...</td>\n",
       "      <td>[pickup, delivery]</td>\n",
       "      <td>NaN</td>\n",
       "      <td>{'address1': '419 E 70th St', 'address2': '', ...</td>\n",
       "      <td>+19174093206</td>\n",
       "      <td>(917) 409-3206</td>\n",
       "      <td>7486.502240</td>\n",
       "    </tr>\n",
       "    <tr>\n",
       "      <th>996</th>\n",
       "      <td>0ETMN5wIvcS5TqeHJLBofA</td>\n",
       "      <td>bagels-and-beyond-brooklyn</td>\n",
       "      <td>Bagels and Beyond</td>\n",
       "      <td>https://s3-media3.fl.yelpcdn.com/bphoto/Nimx9P...</td>\n",
       "      <td>False</td>\n",
       "      <td>https://www.yelp.com/biz/bagels-and-beyond-bro...</td>\n",
       "      <td>29</td>\n",
       "      <td>[{'alias': 'bagels', 'title': 'Bagels'}, {'ali...</td>\n",
       "      <td>4.0</td>\n",
       "      <td>{'latitude': 40.590446, 'longitude': -73.973419}</td>\n",
       "      <td>[pickup, delivery]</td>\n",
       "      <td>$</td>\n",
       "      <td>{'address1': '257 Ave X', 'address2': '', 'add...</td>\n",
       "      <td>+17183362396</td>\n",
       "      <td>(718) 336-2396</td>\n",
       "      <td>12904.910359</td>\n",
       "    </tr>\n",
       "    <tr>\n",
       "      <th>997</th>\n",
       "      <td>NK6HF-9zB2AQdApbcrqvyQ</td>\n",
       "      <td>kates-corner-cafe-astoria</td>\n",
       "      <td>Kate's Corner Cafe</td>\n",
       "      <td>https://s3-media4.fl.yelpcdn.com/bphoto/wnbxCE...</td>\n",
       "      <td>False</td>\n",
       "      <td>https://www.yelp.com/biz/kates-corner-cafe-ast...</td>\n",
       "      <td>21</td>\n",
       "      <td>[{'alias': 'cafes', 'title': 'Cafes'}]</td>\n",
       "      <td>4.5</td>\n",
       "      <td>{'latitude': 40.77569, 'longitude': -73.90012}</td>\n",
       "      <td>[pickup, delivery]</td>\n",
       "      <td>$</td>\n",
       "      <td>{'address1': '4125 20th Ave', 'address2': None...</td>\n",
       "      <td>+17189562929</td>\n",
       "      <td>(718) 956-2929</td>\n",
       "      <td>11134.066187</td>\n",
       "    </tr>\n",
       "    <tr>\n",
       "      <th>998</th>\n",
       "      <td>NMDxZsnglGMG7Q23TrtoQQ</td>\n",
       "      <td>johns-deli-brooklyn-6</td>\n",
       "      <td>John's Deli</td>\n",
       "      <td>https://s3-media4.fl.yelpcdn.com/bphoto/tAvg4A...</td>\n",
       "      <td>False</td>\n",
       "      <td>https://www.yelp.com/biz/johns-deli-brooklyn-6...</td>\n",
       "      <td>38</td>\n",
       "      <td>[{'alias': 'convenience', 'title': 'Convenienc...</td>\n",
       "      <td>4.5</td>\n",
       "      <td>{'latitude': 40.652248, 'longitude': -73.97563...</td>\n",
       "      <td>[pickup, delivery]</td>\n",
       "      <td>$$</td>\n",
       "      <td>{'address1': '1269 Prospect Ave', 'address2': ...</td>\n",
       "      <td>+17188516200</td>\n",
       "      <td>(718) 851-6200</td>\n",
       "      <td>6120.777122</td>\n",
       "    </tr>\n",
       "    <tr>\n",
       "      <th>999</th>\n",
       "      <td>dKgMlvm_kcm6eLxCjkCwGw</td>\n",
       "      <td>forest-superette-and-bagels-staten-island</td>\n",
       "      <td>Forest superette and bagels</td>\n",
       "      <td>https://s3-media2.fl.yelpcdn.com/bphoto/W0ge81...</td>\n",
       "      <td>False</td>\n",
       "      <td>https://www.yelp.com/biz/forest-superette-and-...</td>\n",
       "      <td>5</td>\n",
       "      <td>[{'alias': 'bagels', 'title': 'Bagels'}]</td>\n",
       "      <td>2.0</td>\n",
       "      <td>{'latitude': 40.6308999, 'longitude': -74.10101}</td>\n",
       "      <td>[pickup, delivery]</td>\n",
       "      <td>$</td>\n",
       "      <td>{'address1': '350 Forest Ave', 'address2': Non...</td>\n",
       "      <td>+17182736928</td>\n",
       "      <td>(718) 273-6928</td>\n",
       "      <td>12234.759914</td>\n",
       "    </tr>\n",
       "  </tbody>\n",
       "</table>\n",
       "</div>"
      ],
      "text/plain": [
       "                         id                                      alias  \\\n",
       "995  kb4ezfYAZiu_uEtANLGU2w          york-grill-and-juice-bar-new-york   \n",
       "996  0ETMN5wIvcS5TqeHJLBofA                 bagels-and-beyond-brooklyn   \n",
       "997  NK6HF-9zB2AQdApbcrqvyQ                  kates-corner-cafe-astoria   \n",
       "998  NMDxZsnglGMG7Q23TrtoQQ                      johns-deli-brooklyn-6   \n",
       "999  dKgMlvm_kcm6eLxCjkCwGw  forest-superette-and-bagels-staten-island   \n",
       "\n",
       "                            name  \\\n",
       "995       York Grill & Juice Bar   \n",
       "996            Bagels and Beyond   \n",
       "997           Kate's Corner Cafe   \n",
       "998                  John's Deli   \n",
       "999  Forest superette and bagels   \n",
       "\n",
       "                                             image_url  is_closed  \\\n",
       "995  https://s3-media3.fl.yelpcdn.com/bphoto/lWz61O...      False   \n",
       "996  https://s3-media3.fl.yelpcdn.com/bphoto/Nimx9P...      False   \n",
       "997  https://s3-media4.fl.yelpcdn.com/bphoto/wnbxCE...      False   \n",
       "998  https://s3-media4.fl.yelpcdn.com/bphoto/tAvg4A...      False   \n",
       "999  https://s3-media2.fl.yelpcdn.com/bphoto/W0ge81...      False   \n",
       "\n",
       "                                                   url  review_count  \\\n",
       "995  https://www.yelp.com/biz/york-grill-and-juice-...            24   \n",
       "996  https://www.yelp.com/biz/bagels-and-beyond-bro...            29   \n",
       "997  https://www.yelp.com/biz/kates-corner-cafe-ast...            21   \n",
       "998  https://www.yelp.com/biz/johns-deli-brooklyn-6...            38   \n",
       "999  https://www.yelp.com/biz/forest-superette-and-...             5   \n",
       "\n",
       "                                            categories  rating  \\\n",
       "995  [{'alias': 'delis', 'title': 'Delis'}, {'alias...     4.5   \n",
       "996  [{'alias': 'bagels', 'title': 'Bagels'}, {'ali...     4.0   \n",
       "997             [{'alias': 'cafes', 'title': 'Cafes'}]     4.5   \n",
       "998  [{'alias': 'convenience', 'title': 'Convenienc...     4.5   \n",
       "999           [{'alias': 'bagels', 'title': 'Bagels'}]     2.0   \n",
       "\n",
       "                                           coordinates        transactions  \\\n",
       "995  {'latitude': 40.76608383097776, 'longitude': -...  [pickup, delivery]   \n",
       "996   {'latitude': 40.590446, 'longitude': -73.973419}  [pickup, delivery]   \n",
       "997     {'latitude': 40.77569, 'longitude': -73.90012}  [pickup, delivery]   \n",
       "998  {'latitude': 40.652248, 'longitude': -73.97563...  [pickup, delivery]   \n",
       "999   {'latitude': 40.6308999, 'longitude': -74.10101}  [pickup, delivery]   \n",
       "\n",
       "    price                                           location         phone  \\\n",
       "995   NaN  {'address1': '419 E 70th St', 'address2': '', ...  +19174093206   \n",
       "996     $  {'address1': '257 Ave X', 'address2': '', 'add...  +17183362396   \n",
       "997     $  {'address1': '4125 20th Ave', 'address2': None...  +17189562929   \n",
       "998    $$  {'address1': '1269 Prospect Ave', 'address2': ...  +17188516200   \n",
       "999     $  {'address1': '350 Forest Ave', 'address2': Non...  +17182736928   \n",
       "\n",
       "      display_phone      distance  \n",
       "995  (917) 409-3206   7486.502240  \n",
       "996  (718) 336-2396  12904.910359  \n",
       "997  (718) 956-2929  11134.066187  \n",
       "998  (718) 851-6200   6120.777122  \n",
       "999  (718) 273-6928  12234.759914  "
      ]
     },
     "metadata": {},
     "output_type": "display_data"
    }
   ],
   "source": [
    "# load final results\n",
    "final_df = pd.read_json(JSON_FILE)\n",
    "display(final_df.head(), final_df.tail())"
   ]
  },
  {
   "cell_type": "code",
   "execution_count": 50,
   "id": "4611cf52",
   "metadata": {},
   "outputs": [
    {
     "data": {
      "text/plain": [
       "0"
      ]
     },
     "execution_count": 50,
     "metadata": {},
     "output_type": "execute_result"
    }
   ],
   "source": [
    "final_df.duplicated(subset='id').sum()"
   ]
  },
  {
   "cell_type": "code",
   "execution_count": 31,
   "id": "4be2e7ad",
   "metadata": {},
   "outputs": [],
   "source": [
    "final_df.to_csv('Data/Bagels_NY.csv.gz', compression='gzip',index=False)"
   ]
  },
  {
   "cell_type": "code",
   "execution_count": null,
   "id": "c0ad8e57",
   "metadata": {},
   "outputs": [],
   "source": []
  }
 ],
 "metadata": {
  "kernelspec": {
   "display_name": "Python (dojo-env)",
   "language": "python",
   "name": "dojo-env"
  },
  "language_info": {
   "codemirror_mode": {
    "name": "ipython",
    "version": 3
   },
   "file_extension": ".py",
   "mimetype": "text/x-python",
   "name": "python",
   "nbconvert_exporter": "python",
   "pygments_lexer": "ipython3",
   "version": "3.8.13"
  }
 },
 "nbformat": 4,
 "nbformat_minor": 5
}
